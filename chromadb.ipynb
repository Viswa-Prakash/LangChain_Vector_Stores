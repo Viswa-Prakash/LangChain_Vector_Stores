{
 "cells": [
  {
   "cell_type": "code",
   "execution_count": 2,
   "id": "7d937046",
   "metadata": {},
   "outputs": [
    {
     "name": "stderr",
     "output_type": "stream",
     "text": [
      "C:\\Users\\viswa\\AppData\\Local\\Temp\\ipykernel_9364\\124436716.py:45: LangChainDeprecationWarning: Since Chroma 0.4.x the manual persistence method is no longer supported as docs are automatically persisted.\n",
      "  vector_store.persist()\n"
     ]
    },
    {
     "name": "stdout",
     "output_type": "stream",
     "text": [
      " Stored 51 chunks in Chroma DB at 'chroma_store'.\n",
      "\n",
      " Search Results:\n",
      "1. results to the base model.\n",
      "7 Conclusion\n",
      "In this work, we presented the Transformer, the ﬁrst sequence transduction model based entirely on\n",
      "attention, replacing the recurrent layers most commonly used ...\n",
      "\n",
      "2. textual entailment and learning task-independent sentence representations [4, 22, 23, 19].\n",
      "End-to-end memory networks are based on a recurrent attention mechanism instead of sequence-\n",
      "aligned recurren...\n",
      "\n",
      "3. mechanism. We propose a new simple network architecture, the Transformer,\n",
      "based solely on attention mechanisms, dispensing with recurrence and convolutions\n",
      "entirely. Experiments on two machine transla...\n",
      "\n"
     ]
    }
   ],
   "source": [
    "import os\n",
    "from dotenv import load_dotenv\n",
    "from langchain_community.document_loaders import PyPDFLoader\n",
    "from langchain.text_splitter import RecursiveCharacterTextSplitter\n",
    "from langchain_openai import OpenAIEmbeddings\n",
    "from langchain_community.vectorstores import Chroma\n",
    "\n",
    "# ------------------------\n",
    "# Load API keys\n",
    "# ------------------------\n",
    "load_dotenv()\n",
    "os.environ[\"OPENAI_API_KEY\"] = os.getenv(\"OPENAI_API_KEY\")\n",
    "\n",
    "\n",
    "# ------------------------\n",
    "# Step 1: Load PDF\n",
    "# ------------------------\n",
    "pdf_path = \"data/attention-is-all-you-need-Paper.pdf\"  # relative path\n",
    "loader = PyPDFLoader(pdf_path)\n",
    "docs = loader.load()\n",
    "\n",
    "# ------------------------\n",
    "# Step 2: Split text into chunks\n",
    "# ------------------------\n",
    "splitter = RecursiveCharacterTextSplitter(chunk_size=800, chunk_overlap=100)\n",
    "chunks = splitter.split_documents(docs)\n",
    "\n",
    "# ------------------------\n",
    "# Step 3: Embeddings model\n",
    "# ------------------------\n",
    "embeddings = OpenAIEmbeddings(model=\"text-embedding-3-large\")\n",
    "\n",
    "# ------------------------\n",
    "# Step 4: Create Chroma DB & Store\n",
    "# ------------------------\n",
    "persist_directory = \"chroma_store\"  # folder to save Chroma DB files\n",
    "\n",
    "vector_store = Chroma.from_documents(\n",
    "    documents=chunks,\n",
    "    embedding=embeddings,\n",
    "    persist_directory=persist_directory\n",
    ")\n",
    "\n",
    "# Save the Chroma DB to disk\n",
    "vector_store.persist()\n",
    "print(f\" Stored {len(chunks)} chunks in Chroma DB at '{persist_directory}'.\")\n",
    "\n",
    "# ------------------------\n",
    "# Step 5: Similarity Search\n",
    "# ------------------------\n",
    "query = \"What is the main topic of the document?\"\n",
    "results = vector_store.similarity_search(query, k=3)\n",
    "\n",
    "print(\"\\n Search Results:\")\n",
    "for i, res in enumerate(results, start=1):\n",
    "    print(f\"{i}. {res.page_content[:200]}...\\n\")\n"
   ]
  },
  {
   "cell_type": "code",
   "execution_count": null,
   "id": "2e95197f",
   "metadata": {},
   "outputs": [],
   "source": []
  }
 ],
 "metadata": {
  "kernelspec": {
   "display_name": "vectorstore",
   "language": "python",
   "name": "python3"
  },
  "language_info": {
   "codemirror_mode": {
    "name": "ipython",
    "version": 3
   },
   "file_extension": ".py",
   "mimetype": "text/x-python",
   "name": "python",
   "nbconvert_exporter": "python",
   "pygments_lexer": "ipython3",
   "version": "3.12.0"
  }
 },
 "nbformat": 4,
 "nbformat_minor": 5
}
